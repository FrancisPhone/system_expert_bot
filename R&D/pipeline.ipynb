{
 "cells": [
  {
   "cell_type": "markdown",
   "id": "b0bc8176",
   "metadata": {},
   "source": [
    "# Parse Query Components"
   ]
  },
  {
   "cell_type": "code",
   "execution_count": 8,
   "id": "9b0add71",
   "metadata": {},
   "outputs": [],
   "source": [
    "import sqlglot\n",
    "from dataclasses import dataclass"
   ]
  },
  {
   "cell_type": "code",
   "execution_count": 1,
   "id": "7471a662",
   "metadata": {},
   "outputs": [],
   "source": [
    "@dataclass\n",
    "class QueryComponents:\n",
    "    tables: set\n",
    "    columns: set\n",
    "    joins: list\n",
    "    conditions: list\n",
    "\n",
    "        \n",
    "def parse_sql(query: str) -> QueryComponents:\n",
    "    parsed = sqlglot.parse_one(query)\n",
    "    components = QueryComponents(\n",
    "        tables=set(),\n",
    "        columns=set(),\n",
    "        joins=[],\n",
    "        conditions=[]\n",
    "    )\n",
    "    \n",
    "    # Extract tables and their aliases\n",
    "    table_aliases = {}\n",
    "    for table in parsed.find_all(sqlglot.exp.Table):\n",
    "        components.tables.add(table.name)\n",
    "        if table.alias:\n",
    "            table_aliases[table.alias] = table.name\n",
    "    \n",
    "    # Extract columns with table context\n",
    "    for col in parsed.find_all(sqlglot.exp.Column):\n",
    "        table_name = table_aliases.get(col.table, col.table)  # Resolve aliases\n",
    "        components.columns.add(f\"{table_name}.{col.name}\")\n",
    "    \n",
    "    # Extract joins with corrected source/target\n",
    "    for join in parsed.find_all(sqlglot.exp.Join):\n",
    "        source_table = join.this.alias or join.this.name\n",
    "        target_table = join.args.get('on').find(sqlglot.exp.Column).table\n",
    "        components.joins.append({\n",
    "            \"source\": table_aliases.get(source_table, source_table),\n",
    "            \"target\": table_aliases.get(target_table, target_table),\n",
    "            \"type\": \"LEFT JOIN\" if join.side == \"LEFT\" else \"INNER JOIN\"\n",
    "        })\n",
    "    \n",
    "    # Extract conditions\n",
    "    components.conditions = [where.this.sql() for where in parsed.find_all(sqlglot.exp.Where)]\n",
    "    \n",
    "    return components"
   ]
  },
  {
   "cell_type": "code",
   "execution_count": 2,
   "id": "87216af1",
   "metadata": {},
   "outputs": [
    {
     "data": {
      "text/plain": [
       "QueryComponents(tables={'users', 'orders'}, columns={'orders.user_id', 'users.name', 'users.id'}, joins=[{'source': 'orders', 'target': 'users', 'type': 'INNER JOIN'}], conditions=[])"
      ]
     },
     "execution_count": 2,
     "metadata": {},
     "output_type": "execute_result"
    }
   ],
   "source": [
    "parse_sql(\"SELECT users.name FROM users RIGHT JOIN orders ON users.id = orders.user_id\")"
   ]
  },
  {
   "cell_type": "code",
   "execution_count": 3,
   "id": "605b0fe4",
   "metadata": {},
   "outputs": [
    {
     "data": {
      "text/plain": [
       "QueryComponents(tables={'products'}, columns={'.price'}, joins=[], conditions=['price > 100'])"
      ]
     },
     "execution_count": 3,
     "metadata": {},
     "output_type": "execute_result"
    }
   ],
   "source": [
    "parse_sql(\"DELETE FROM products WHERE price > 100\")"
   ]
  },
  {
   "cell_type": "code",
   "execution_count": 4,
   "id": "3601764c",
   "metadata": {},
   "outputs": [
    {
     "name": "stdout",
     "output_type": "stream",
     "text": [
      "QueryComponents(tables={'users', 'orders'}, columns={'orders.user_id', 'users.name', 'users.id'}, joins=[{'source': 'orders', 'target': 'users', 'type': 'INNER JOIN'}], conditions=[])\n",
      "QueryComponents(tables={'products'}, columns={'.price'}, joins=[], conditions=['price > 100'])\n"
     ]
    }
   ],
   "source": [
    "queries = [\n",
    "    \"SELECT users.name FROM users JOIN orders ON users.id = orders.user_id\",\n",
    "    \"DELETE FROM products WHERE price > 100\"\n",
    "]\n",
    "for q in queries:\n",
    "    print(parse_sql(q))"
   ]
  },
  {
   "cell_type": "markdown",
   "id": "82bd4c31",
   "metadata": {},
   "source": [
    "# Build Knowledge Graph"
   ]
  },
  {
   "cell_type": "code",
   "execution_count": 13,
   "id": "b31c004d",
   "metadata": {},
   "outputs": [],
   "source": [
    "import numpy as np\n",
    "import networkx as nx\n",
    "from sentence_transformers import SentenceTransformer"
   ]
  },
  {
   "cell_type": "code",
   "execution_count": 76,
   "id": "cabd41ed",
   "metadata": {},
   "outputs": [],
   "source": [
    "class KnowledgeGraph:\n",
    "    def __init__(self):\n",
    "        self.graph = nx.MultiDiGraph()\n",
    "        self.encoder = SentenceTransformer('all-MiniLM-L6-v2', device='cpu')\n",
    "        \n",
    "    def add_query(self, query: str):\n",
    "        components = parse_sql(query)\n",
    "        query_id = f\"query_{hash(query)}\"\n",
    "        \n",
    "        # Add nodes\n",
    "        self.graph.add_node(query_id, type=\"query\", embedding=self._get_embedding(query))\n",
    "        \n",
    "        # Add tables and connect to query\n",
    "        for table in components.tables:\n",
    "            self.graph.add_node(table, type=\"table\")\n",
    "            self.graph.add_edge(query_id, table, relation=\"accesses\")\n",
    "            \n",
    "            # Add columns as sub-nodes of tables\n",
    "            for col in [c for c in components.columns if c.startswith(f\"{table}.\")]:\n",
    "                col_node = f\"{table}.{col.split('.')[1]}\"\n",
    "                self.graph.add_node(col_node, type=\"column\")\n",
    "                self.graph.add_edge(table, col_node, relation=\"has_column\")\n",
    "        \n",
    "        # Add joins (now column-aware)\n",
    "        for join in components.joins:\n",
    "            self.graph.add_edge(\n",
    "                join[\"source\"], \n",
    "                join[\"target\"],\n",
    "                relation=\"join\",\n",
    "                type=join[\"type\"],\n",
    "                label=f\"{join['source']} ↔ {join['target']}\"  # For visualization\n",
    "            )\n",
    "    \n",
    "    def _get_embedding(self, text: str) -> np.ndarray:\n",
    "        return self.encoder.encode(text, convert_to_tensor=True).cpu().numpy()"
   ]
  },
  {
   "cell_type": "code",
   "execution_count": 79,
   "id": "bc19c1af",
   "metadata": {},
   "outputs": [],
   "source": [
    "kg = KnowledgeGraph()"
   ]
  },
  {
   "cell_type": "code",
   "execution_count": 80,
   "id": "c8355df4",
   "metadata": {},
   "outputs": [],
   "source": [
    "queries = [\n",
    "    \"SELECT users.name FROM users JOIN orders ON users.id = orders.user_id\",\n",
    "    \"DELETE FROM products WHERE price > 100\"\n",
    "]\n",
    "for q in queries:\n",
    "    kg.add_query(q)"
   ]
  },
  {
   "cell_type": "markdown",
   "id": "56bb2ac2",
   "metadata": {},
   "source": [
    "# Visualize Knowledge Graph"
   ]
  },
  {
   "cell_type": "code",
   "execution_count": 81,
   "id": "627ca41c",
   "metadata": {},
   "outputs": [],
   "source": [
    "from pyvis.network import Network\n",
    "\n",
    "def visualize_graph(kg):\n",
    "    net = Network(notebook=True, directed=True, cdn_resources='in_line')\n",
    "    \n",
    "    # Add nodes with styling\n",
    "    for node in kg.graph.nodes():\n",
    "        if 'table' in node.lower():\n",
    "            net.add_node(node, color='#FFA07A', shape='box')  # Light salmon for tables\n",
    "        elif 'column' in node.lower():\n",
    "            net.add_node(node, color='#98FB98', size=15)  # Pale green for columns\n",
    "        else:\n",
    "            net.add_node(node, color='#ADD8E6')  # Light blue for queries\n",
    "    \n",
    "    # Add edges with labels\n",
    "    for src, dst, data in kg.graph.edges(data=True):\n",
    "        net.add_edge(src, dst, label=data.get('type', ''), title=data.get('relation', ''))\n",
    "    \n",
    "    with open(\"sql_graph.html\", \"w\", encoding=\"utf-8\") as f:\n",
    "        f.write(net.generate_html())"
   ]
  },
  {
   "cell_type": "code",
   "execution_count": 82,
   "id": "bd83c374",
   "metadata": {},
   "outputs": [],
   "source": [
    "visualize_graph(kg)"
   ]
  },
  {
   "cell_type": "code",
   "execution_count": 83,
   "id": "eca77756",
   "metadata": {},
   "outputs": [
    {
     "data": {
      "text/plain": [
       "NodeView(('query_7979636527217952724', 'users', 'users.name', 'users.id', 'orders', 'orders.user_id', 'query_5240566835026746143', 'products'))"
      ]
     },
     "execution_count": 83,
     "metadata": {},
     "output_type": "execute_result"
    }
   ],
   "source": [
    "kg.graph.nodes"
   ]
  },
  {
   "cell_type": "code",
   "execution_count": 84,
   "id": "33a4c222",
   "metadata": {
    "scrolled": true
   },
   "outputs": [
    {
     "data": {
      "text/plain": [
       "OutMultiEdgeView([('query_7979636527217952724', 'users', 0), ('query_7979636527217952724', 'orders', 0), ('users', 'users.name', 0), ('users', 'users.id', 0), ('orders', 'orders.user_id', 0), ('orders', 'users', 0), ('query_5240566835026746143', 'products', 0)])"
      ]
     },
     "execution_count": 84,
     "metadata": {},
     "output_type": "execute_result"
    }
   ],
   "source": [
    "kg.graph.edges"
   ]
  },
  {
   "cell_type": "code",
   "execution_count": 85,
   "id": "3c2c6ae2",
   "metadata": {},
   "outputs": [
    {
     "data": {
      "text/plain": [
       "{0: {'relation': 'has_column'}}"
      ]
     },
     "execution_count": 85,
     "metadata": {},
     "output_type": "execute_result"
    }
   ],
   "source": [
    "kg.graph.get_edge_data(u='users', v='users.name')"
   ]
  },
  {
   "cell_type": "code",
   "execution_count": 86,
   "id": "1cd43d98",
   "metadata": {},
   "outputs": [
    {
     "data": {
      "text/plain": [
       "{0: {'relation': 'accesses'}}"
      ]
     },
     "execution_count": 86,
     "metadata": {},
     "output_type": "execute_result"
    }
   ],
   "source": [
    "kg.graph.get_edge_data(u='query_7979636527217952724', v='users')"
   ]
  },
  {
   "cell_type": "code",
   "execution_count": 87,
   "id": "b3ec5b07",
   "metadata": {},
   "outputs": [
    {
     "data": {
      "text/plain": [
       "{0: {'relation': 'join', 'type': 'INNER JOIN', 'label': 'orders ↔ users'}}"
      ]
     },
     "execution_count": 87,
     "metadata": {},
     "output_type": "execute_result"
    }
   ],
   "source": [
    "kg.graph.get_edge_data(u='orders', v='users')"
   ]
  },
  {
   "cell_type": "markdown",
   "id": "3ddebe5f",
   "metadata": {},
   "source": [
    "# Setup Q&A Engine"
   ]
  },
  {
   "cell_type": "code",
   "execution_count": 70,
   "id": "ec85711d",
   "metadata": {},
   "outputs": [],
   "source": [
    "from transformers import pipeline"
   ]
  },
  {
   "cell_type": "code",
   "execution_count": 71,
   "id": "9944913a",
   "metadata": {},
   "outputs": [
    {
     "data": {
      "text/plain": [
       "tensor([3, 4, 5])"
      ]
     },
     "execution_count": 71,
     "metadata": {},
     "output_type": "execute_result"
    }
   ],
   "source": [
    "torch.tensor([3,4, 5])"
   ]
  },
  {
   "cell_type": "code",
   "execution_count": 72,
   "id": "475a4558",
   "metadata": {},
   "outputs": [],
   "source": [
    "class QAEngine:\n",
    "    def __init__(self, kg: KnowledgeGraph):\n",
    "        self.kg = kg\n",
    "        self.llm = pipeline(\n",
    "            \"text-generation\",\n",
    "            model=\"google/flan-t5-large\",\n",
    "            device=\"cpu\"\n",
    "        )\n",
    "        \n",
    "    def answer(self, question: str):\n",
    "        # 1. Retrieve relevant subgraph\n",
    "        question_embed = self.kg._get_embedding(question)\n",
    "        similarities = [\n",
    "            (node, torch.cosine_similarity(torch.tensor(question_embed), torch.tensor(self.kg.graph.nodes[node][\"embedding\"]), dim=0))\n",
    "            for node in self.kg.graph.nodes if \"embedding\" in self.kg.graph.nodes[node]\n",
    "        ]\n",
    "        top_nodes = sorted(similarities, key=lambda x: -x[1])[:3]\n",
    "        \n",
    "        # 2. Generate answer\n",
    "        context = \"\\n\".join([f\"Node {n[0]}: {self.kg.graph.nodes[n[0]]['type']}\" for n in top_nodes])\n",
    "        prompt = f\"\"\"SQL Knowledge Graph Context:\n",
    "{context}\n",
    "Question: {question}\n",
    "Answer:\"\"\"\n",
    "        \n",
    "        return self.llm(prompt, max_new_tokens=200)[0]['generated_text']"
   ]
  },
  {
   "cell_type": "code",
   "execution_count": 74,
   "id": "e68947bc",
   "metadata": {},
   "outputs": [
    {
     "name": "stderr",
     "output_type": "stream",
     "text": [
      "Device set to use cpu\n",
      "The model 'T5ForConditionalGeneration' is not supported for text-generation. Supported models are ['AriaTextForCausalLM', 'BambaForCausalLM', 'BartForCausalLM', 'BertLMHeadModel', 'BertGenerationDecoder', 'BigBirdForCausalLM', 'BigBirdPegasusForCausalLM', 'BioGptForCausalLM', 'BlenderbotForCausalLM', 'BlenderbotSmallForCausalLM', 'BloomForCausalLM', 'CamembertForCausalLM', 'LlamaForCausalLM', 'CodeGenForCausalLM', 'CohereForCausalLM', 'Cohere2ForCausalLM', 'CpmAntForCausalLM', 'CTRLLMHeadModel', 'Data2VecTextForCausalLM', 'DbrxForCausalLM', 'DiffLlamaForCausalLM', 'ElectraForCausalLM', 'Emu3ForCausalLM', 'ErnieForCausalLM', 'FalconForCausalLM', 'FalconMambaForCausalLM', 'FuyuForCausalLM', 'GemmaForCausalLM', 'Gemma2ForCausalLM', 'Gemma3ForConditionalGeneration', 'Gemma3ForCausalLM', 'GitForCausalLM', 'GlmForCausalLM', 'GotOcr2ForConditionalGeneration', 'GPT2LMHeadModel', 'GPT2LMHeadModel', 'GPTBigCodeForCausalLM', 'GPTNeoForCausalLM', 'GPTNeoXForCausalLM', 'GPTNeoXJapaneseForCausalLM', 'GPTJForCausalLM', 'GraniteForCausalLM', 'GraniteMoeForCausalLM', 'GraniteMoeSharedForCausalLM', 'HeliumForCausalLM', 'JambaForCausalLM', 'JetMoeForCausalLM', 'LlamaForCausalLM', 'MambaForCausalLM', 'Mamba2ForCausalLM', 'MarianForCausalLM', 'MBartForCausalLM', 'MegaForCausalLM', 'MegatronBertForCausalLM', 'MistralForCausalLM', 'MixtralForCausalLM', 'MllamaForCausalLM', 'MoshiForCausalLM', 'MptForCausalLM', 'MusicgenForCausalLM', 'MusicgenMelodyForCausalLM', 'MvpForCausalLM', 'NemotronForCausalLM', 'OlmoForCausalLM', 'Olmo2ForCausalLM', 'OlmoeForCausalLM', 'OpenLlamaForCausalLM', 'OpenAIGPTLMHeadModel', 'OPTForCausalLM', 'PegasusForCausalLM', 'PersimmonForCausalLM', 'PhiForCausalLM', 'Phi3ForCausalLM', 'PhimoeForCausalLM', 'PLBartForCausalLM', 'ProphetNetForCausalLM', 'QDQBertLMHeadModel', 'Qwen2ForCausalLM', 'Qwen2MoeForCausalLM', 'RecurrentGemmaForCausalLM', 'ReformerModelWithLMHead', 'RemBertForCausalLM', 'RobertaForCausalLM', 'RobertaPreLayerNormForCausalLM', 'RoCBertForCausalLM', 'RoFormerForCausalLM', 'RwkvForCausalLM', 'Speech2Text2ForCausalLM', 'StableLmForCausalLM', 'Starcoder2ForCausalLM', 'TransfoXLLMHeadModel', 'TrOCRForCausalLM', 'WhisperForCausalLM', 'XGLMForCausalLM', 'XLMWithLMHeadModel', 'XLMProphetNetForCausalLM', 'XLMRobertaForCausalLM', 'XLMRobertaXLForCausalLM', 'XLNetLMHeadModel', 'XmodForCausalLM', 'ZambaForCausalLM', 'Zamba2ForCausalLM'].\n"
     ]
    }
   ],
   "source": [
    "import torch\n",
    "\n",
    "engine = QAEngine(kg)"
   ]
  },
  {
   "cell_type": "markdown",
   "id": "8dc1a731",
   "metadata": {},
   "source": [
    "# Inference"
   ]
  },
  {
   "cell_type": "code",
   "execution_count": 75,
   "id": "1955a192",
   "metadata": {},
   "outputs": [
    {
     "name": "stdout",
     "output_type": "stream",
     "text": [
      "SQL Knowledge Graph Context:\n",
      "Node DELETE FROM products WHERE price > 100: query\n",
      "Node SELECT users.name FROM users JOIN orders ON users.id = orders.user_id: query\n",
      "Question: What are the columns of 'products' table?\n",
      "Answer:\n"
     ]
    }
   ],
   "source": [
    "result = engine.answer(\"What are the columns of 'products' table?\")\n",
    "print(result)"
   ]
  },
  {
   "cell_type": "code",
   "execution_count": 45,
   "id": "d71f65e1",
   "metadata": {},
   "outputs": [
    {
     "name": "stdout",
     "output_type": "stream",
     "text": [
      "('query_7979636527217952724', tensor(0.3086))\n",
      "SQL Knowledge Graph Context:\n",
      "Node query_7979636527217952724: query\n",
      "Node query_5240566835026746143: query\n",
      "Question: What are the columns of 'users' table?\n",
      "Answer:\n"
     ]
    }
   ],
   "source": [
    "result = engine.answer(\"What are the columns of 'users' table?\")\n",
    "print(result)"
   ]
  },
  {
   "cell_type": "code",
   "execution_count": null,
   "id": "681a035b",
   "metadata": {},
   "outputs": [],
   "source": []
  }
 ],
 "metadata": {
  "kernelspec": {
   "display_name": "sys_exp_kernel",
   "language": "python",
   "name": "sys_expert"
  },
  "language_info": {
   "codemirror_mode": {
    "name": "ipython",
    "version": 3
   },
   "file_extension": ".py",
   "mimetype": "text/x-python",
   "name": "python",
   "nbconvert_exporter": "python",
   "pygments_lexer": "ipython3",
   "version": "3.10.15"
  }
 },
 "nbformat": 4,
 "nbformat_minor": 5
}
