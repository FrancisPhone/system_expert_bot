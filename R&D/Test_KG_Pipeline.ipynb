{
 "cells": [
  {
   "cell_type": "code",
   "execution_count": 1,
   "id": "99c4af28",
   "metadata": {},
   "outputs": [],
   "source": [
    "import knowledge_graph_pipeline as pipeline"
   ]
  },
  {
   "cell_type": "markdown",
   "id": "e81fdc2e",
   "metadata": {},
   "source": [
    "# Build Knowledge Graph"
   ]
  },
  {
   "cell_type": "code",
   "execution_count": 2,
   "id": "759a44e2",
   "metadata": {},
   "outputs": [
    {
     "data": {
      "text/plain": [
       "{'attribute': {'columns': [{'name': 'id',\n",
       "    'type': 'BIGINT',\n",
       "    'constraints': ['NOT NULL', 'AUTO_INCREMENT']},\n",
       "   {'name': 'object_id', 'type': 'BIGINT', 'constraints': ['NOT NULL']},\n",
       "   {'name': 'artist', 'type': 'VARCHAR(100)', 'constraints': ['DEFAULT NULL']},\n",
       "   {'name': 'art_style',\n",
       "    'type': 'VARCHAR(100)',\n",
       "    'constraints': ['DEFAULT NULL']},\n",
       "   {'name': 'material',\n",
       "    'type': 'VARCHAR(100)',\n",
       "    'constraints': ['DEFAULT NULL']},\n",
       "   {'name': 'created_at',\n",
       "    'type': 'DATETIME',\n",
       "    'constraints': ['NOT NULL', 'DEFAULT CURRENT_TIMESTAMP()']},\n",
       "   {'name': 'updated_at',\n",
       "    'type': 'DATETIME',\n",
       "    'constraints': ['DEFAULT NULL', 'ON UPDATE CURRENT_TIMESTAMP()']}],\n",
       "  'primary_keys': ['id'],\n",
       "  'foreign_keys': [{'name': 'fk_museum_object_attribute',\n",
       "    'foreign_key': 'object_id',\n",
       "    'reference_table': 'museum_object',\n",
       "    'reference_column': 'id'}]},\n",
       " 'entrance': {'columns': [{'name': 'id',\n",
       "    'type': 'BIGINT',\n",
       "    'constraints': ['NOT NULL', 'AUTO_INCREMENT']},\n",
       "   {'name': 'museum_id', 'type': 'BIGINT', 'constraints': ['NOT NULL']},\n",
       "   {'name': 'user_id', 'type': 'BIGINT', 'constraints': ['NOT NULL']},\n",
       "   {'name': 'transaction_id', 'type': 'BIGINT', 'constraints': ['NOT NULL']},\n",
       "   {'name': 'ticket_no', 'type': 'VARCHAR(50)', 'constraints': ['NOT NULL']},\n",
       "   {'name': 'price', 'type': 'INT', 'constraints': ['NOT NULL']},\n",
       "   {'name': 'ticket_type', 'type': 'TEXT', 'constraints': []},\n",
       "   {'name': 'entry_time', 'type': 'DATETIME', 'constraints': ['NOT NULL']},\n",
       "   {'name': 'created_at',\n",
       "    'type': 'DATETIME',\n",
       "    'constraints': ['NOT NULL', 'DEFAULT CURRENT_TIMESTAMP()']},\n",
       "   {'name': 'updated_at',\n",
       "    'type': 'DATETIME',\n",
       "    'constraints': ['DEFAULT NULL', 'ON UPDATE CURRENT_TIMESTAMP()']}],\n",
       "  'primary_keys': ['id'],\n",
       "  'foreign_keys': [{'name': 'fk_entrace_payment',\n",
       "    'foreign_key': 'transaction_id',\n",
       "    'reference_table': 'payment',\n",
       "    'reference_column': 'id'},\n",
       "   {'name': 'fk_museum_entrance',\n",
       "    'foreign_key': 'museum_id',\n",
       "    'reference_table': 'museum',\n",
       "    'reference_column': 'id'}]},\n",
       " 'keyword': {'columns': [{'name': 'id',\n",
       "    'type': 'BIGINT',\n",
       "    'constraints': ['NOT NULL', 'AUTO_INCREMENT']},\n",
       "   {'name': 'value', 'type': 'VARCHAR(100)', 'constraints': ['NOT NULL']},\n",
       "   {'name': 'created_at',\n",
       "    'type': 'DATETIME',\n",
       "    'constraints': ['NOT NULL', 'DEFAULT CURRENT_TIMESTAMP()']},\n",
       "   {'name': 'updated_at',\n",
       "    'type': 'DATETIME',\n",
       "    'constraints': ['DEFAULT NULL', 'ON UPDATE CURRENT_TIMESTAMP()']}],\n",
       "  'primary_keys': ['id'],\n",
       "  'foreign_keys': []},\n",
       " 'location': {'columns': [{'name': 'id',\n",
       "    'type': 'BIGINT',\n",
       "    'constraints': ['NOT NULL', 'AUTO_INCREMENT']},\n",
       "   {'name': 'longitude',\n",
       "    'type': 'DECIMAL(11, 8)',\n",
       "    'constraints': ['DEFAULT NULL']},\n",
       "   {'name': 'latitude',\n",
       "    'type': 'DECIMAL(11, 8)',\n",
       "    'constraints': ['DEFAULT NULL']},\n",
       "   {'name': 'country', 'type': 'VARCHAR(100)', 'constraints': ['NOT NULL']},\n",
       "   {'name': 'address', 'type': 'TEXT', 'constraints': ['NOT NULL']},\n",
       "   {'name': 'created_at',\n",
       "    'type': 'DATETIME',\n",
       "    'constraints': ['NOT NULL', 'DEFAULT CURRENT_TIMESTAMP()']},\n",
       "   {'name': 'updated_at',\n",
       "    'type': 'DATETIME',\n",
       "    'constraints': ['DEFAULT NULL', 'ON UPDATE CURRENT_TIMESTAMP()']}],\n",
       "  'primary_keys': ['id'],\n",
       "  'foreign_keys': []},\n",
       " 'museum': {'columns': [{'name': 'id',\n",
       "    'type': 'BIGINT',\n",
       "    'constraints': ['NOT NULL', 'AUTO_INCREMENT']},\n",
       "   {'name': 'location_id', 'type': 'BIGINT', 'constraints': ['NOT NULL']},\n",
       "   {'name': 'name', 'type': 'VARCHAR(255)', 'constraints': ['NOT NULL']},\n",
       "   {'name': 'description', 'type': 'TEXT', 'constraints': []},\n",
       "   {'name': 'created_at',\n",
       "    'type': 'DATETIME',\n",
       "    'constraints': ['NOT NULL', 'DEFAULT CURRENT_TIMESTAMP()']},\n",
       "   {'name': 'updated_at',\n",
       "    'type': 'DATETIME',\n",
       "    'constraints': ['DEFAULT NULL', 'ON UPDATE CURRENT_TIMESTAMP()']}],\n",
       "  'primary_keys': ['id'],\n",
       "  'foreign_keys': [{'name': 'fk_museum_location',\n",
       "    'foreign_key': 'location_id',\n",
       "    'reference_table': 'location',\n",
       "    'reference_column': 'id'}]},\n",
       " 'museum_keyword': {'columns': [{'name': 'museum_id',\n",
       "    'type': 'BIGINT',\n",
       "    'constraints': ['NOT NULL']},\n",
       "   {'name': 'keyword_id', 'type': 'BIGINT', 'constraints': ['NOT NULL']}],\n",
       "  'primary_keys': ['museum_id', 'keyword_id'],\n",
       "  'foreign_keys': [{'name': 'fk_museum_keyword_keyword',\n",
       "    'foreign_key': 'keyword_id',\n",
       "    'reference_table': 'keyword',\n",
       "    'reference_column': 'id'},\n",
       "   {'name': 'fk_museum_keyword_museum',\n",
       "    'foreign_key': 'museum_id',\n",
       "    'reference_table': 'museum',\n",
       "    'reference_column': 'id'}]},\n",
       " 'museum_object': {'columns': [{'name': 'id',\n",
       "    'type': 'BIGINT',\n",
       "    'constraints': ['NOT NULL', 'AUTO_INCREMENT']},\n",
       "   {'name': 'museum_id', 'type': 'BIGINT', 'constraints': ['NOT NULL']},\n",
       "   {'name': 'country', 'type': 'TEXT', 'constraints': []},\n",
       "   {'name': 'title', 'type': 'VARCHAR(255)', 'constraints': ['NOT NULL']},\n",
       "   {'name': 'description', 'type': 'TEXT', 'constraints': []},\n",
       "   {'name': 'year', 'type': 'INT', 'constraints': ['DEFAULT NULL']},\n",
       "   {'name': 'image', 'type': 'VARCHAR(255)', 'constraints': ['DEFAULT NULL']},\n",
       "   {'name': 'created_at',\n",
       "    'type': 'DATETIME',\n",
       "    'constraints': ['NOT NULL', 'DEFAULT CURRENT_TIMESTAMP()']},\n",
       "   {'name': 'updated_at',\n",
       "    'type': 'DATETIME',\n",
       "    'constraints': ['DEFAULT NULL', 'ON UPDATE CURRENT_TIMESTAMP()']}],\n",
       "  'primary_keys': ['id'],\n",
       "  'foreign_keys': [{'name': 'fk_museum_object_museum',\n",
       "    'foreign_key': 'museum_id',\n",
       "    'reference_table': 'museum',\n",
       "    'reference_column': 'id'},\n",
       "   {'name': 'museum_object_chk_1',\n",
       "    'foreign_key': '',\n",
       "    'reference_table': '',\n",
       "    'reference_column': ''}]},\n",
       " 'museum_object_keyword': {'columns': [{'name': 'object_id',\n",
       "    'type': 'BIGINT',\n",
       "    'constraints': ['NOT NULL']},\n",
       "   {'name': 'keyword_id', 'type': 'BIGINT', 'constraints': ['NOT NULL']}],\n",
       "  'primary_keys': ['object_id', 'keyword_id'],\n",
       "  'foreign_keys': [{'name': 'museum_object_keyword_ibfk_1',\n",
       "    'foreign_key': 'object_id',\n",
       "    'reference_table': 'museum_object',\n",
       "    'reference_column': 'id'},\n",
       "   {'name': 'museum_object_keyword_ibfk_2',\n",
       "    'foreign_key': 'keyword_id',\n",
       "    'reference_table': 'keyword',\n",
       "    'reference_column': 'id'}]},\n",
       " 'museum_object_type_info': {'columns': [{'name': 'object_id',\n",
       "    'type': 'BIGINT',\n",
       "    'constraints': ['NOT NULL']},\n",
       "   {'name': 'type_id', 'type': 'BIGINT', 'constraints': ['NOT NULL']}],\n",
       "  'primary_keys': ['object_id', 'type_id'],\n",
       "  'foreign_keys': [{'name': 'fk_museum_object_type_info_museum',\n",
       "    'foreign_key': 'object_id',\n",
       "    'reference_table': 'museum_object',\n",
       "    'reference_column': 'id'},\n",
       "   {'name': 'fk_museum_object_type_info_type_info',\n",
       "    'foreign_key': 'type_id',\n",
       "    'reference_table': 'type_info',\n",
       "    'reference_column': 'id'}]},\n",
       " 'museum_type_info': {'columns': [{'name': 'museum_id',\n",
       "    'type': 'BIGINT',\n",
       "    'constraints': ['NOT NULL']},\n",
       "   {'name': 'type_id', 'type': 'BIGINT', 'constraints': ['NOT NULL']}],\n",
       "  'primary_keys': ['museum_id', 'type_id'],\n",
       "  'foreign_keys': [{'name': 'fk_museum_type_info_museum',\n",
       "    'foreign_key': 'museum_id',\n",
       "    'reference_table': 'museum',\n",
       "    'reference_column': 'id'},\n",
       "   {'name': 'fk_museum_type_info_type_info',\n",
       "    'foreign_key': 'type_id',\n",
       "    'reference_table': 'type_info',\n",
       "    'reference_column': 'id'}]},\n",
       " 'object_dimension': {'columns': [{'name': 'id',\n",
       "    'type': 'BIGINT',\n",
       "    'constraints': ['NOT NULL', 'AUTO_INCREMENT']},\n",
       "   {'name': 'object_id', 'type': 'BIGINT', 'constraints': ['NOT NULL']},\n",
       "   {'name': 'height',\n",
       "    'type': 'DECIMAL(10, 2)',\n",
       "    'constraints': ['DEFAULT NULL']},\n",
       "   {'name': 'width',\n",
       "    'type': 'DECIMAL(10, 2)',\n",
       "    'constraints': ['DEFAULT NULL']},\n",
       "   {'name': 'depth',\n",
       "    'type': 'DECIMAL(10, 2)',\n",
       "    'constraints': ['DEFAULT NULL']},\n",
       "   {'name': 'created_at',\n",
       "    'type': 'DATETIME',\n",
       "    'constraints': ['NOT NULL', 'DEFAULT CURRENT_TIMESTAMP()']},\n",
       "   {'name': 'updated_at',\n",
       "    'type': 'DATETIME',\n",
       "    'constraints': ['DEFAULT NULL', 'ON UPDATE CURRENT_TIMESTAMP()']}],\n",
       "  'primary_keys': ['id'],\n",
       "  'foreign_keys': [{'name': 'fk_museum_object_dimension',\n",
       "    'foreign_key': 'object_id',\n",
       "    'reference_table': 'museum_object',\n",
       "    'reference_column': 'id'}]},\n",
       " 'payment': {'columns': [{'name': 'id',\n",
       "    'type': 'BIGINT',\n",
       "    'constraints': ['NOT NULL', 'AUTO_INCREMENT']},\n",
       "   {'name': 'status', 'type': 'VARCHAR(50)', 'constraints': ['NOT NULL']},\n",
       "   {'name': 'amount',\n",
       "    'type': 'INT',\n",
       "    'constraints': ['NOT NULL', \"DEFAULT '0'\"]},\n",
       "   {'name': 'created_at',\n",
       "    'type': 'DATETIME',\n",
       "    'constraints': ['NOT NULL', 'DEFAULT CURRENT_TIMESTAMP()']},\n",
       "   {'name': 'updated_at',\n",
       "    'type': 'DATETIME',\n",
       "    'constraints': ['DEFAULT NULL', 'ON UPDATE CURRENT_TIMESTAMP()']}],\n",
       "  'primary_keys': ['id'],\n",
       "  'foreign_keys': []},\n",
       " 'type_info': {'columns': [{'name': 'id',\n",
       "    'type': 'BIGINT',\n",
       "    'constraints': ['NOT NULL', 'AUTO_INCREMENT']},\n",
       "   {'name': 'value', 'type': 'VARCHAR(100)', 'constraints': ['NOT NULL']},\n",
       "   {'name': 'created_at',\n",
       "    'type': 'DATETIME',\n",
       "    'constraints': ['NOT NULL', 'DEFAULT CURRENT_TIMESTAMP()']},\n",
       "   {'name': 'updated_at',\n",
       "    'type': 'DATETIME',\n",
       "    'constraints': ['DEFAULT NULL', 'ON UPDATE CURRENT_TIMESTAMP()']}],\n",
       "  'primary_keys': ['id'],\n",
       "  'foreign_keys': []},\n",
       " 'user': {'columns': [{'name': 'id',\n",
       "    'type': 'BIGINT',\n",
       "    'constraints': ['NOT NULL', 'AUTO_INCREMENT']},\n",
       "   {'name': 'email', 'type': 'VARCHAR(100)', 'constraints': ['NOT NULL']},\n",
       "   {'name': 'username', 'type': 'VARCHAR(50)', 'constraints': ['NOT NULL']},\n",
       "   {'name': 'password', 'type': 'VARCHAR(255)', 'constraints': ['NOT NULL']},\n",
       "   {'name': 'first_name',\n",
       "    'type': 'VARCHAR(50)',\n",
       "    'constraints': ['DEFAULT NULL']},\n",
       "   {'name': 'last_name',\n",
       "    'type': 'VARCHAR(50)',\n",
       "    'constraints': ['DEFAULT NULL']},\n",
       "   {'name': 'date_of_birth', 'type': 'DATE', 'constraints': ['DEFAULT NULL']},\n",
       "   {'name': 'nationality',\n",
       "    'type': 'VARCHAR(100)',\n",
       "    'constraints': ['DEFAULT NULL']},\n",
       "   {'name': 'created_at',\n",
       "    'type': 'DATETIME',\n",
       "    'constraints': ['NOT NULL', 'DEFAULT CURRENT_TIMESTAMP()']},\n",
       "   {'name': 'updated_at',\n",
       "    'type': 'DATETIME',\n",
       "    'constraints': ['DEFAULT NULL', 'ON UPDATE CURRENT_TIMESTAMP()']}],\n",
       "  'primary_keys': ['id'],\n",
       "  'foreign_keys': []},\n",
       " 'visitor_interaction': {'columns': [{'name': 'id',\n",
       "    'type': 'BIGINT',\n",
       "    'constraints': ['NOT NULL', 'AUTO_INCREMENT']},\n",
       "   {'name': 'user_id', 'type': 'BIGINT', 'constraints': ['NOT NULL']},\n",
       "   {'name': 'object_id', 'type': 'BIGINT', 'constraints': ['NOT NULL']},\n",
       "   {'name': 'is_liked', 'type': 'TINYINT(1)', 'constraints': ['DEFAULT NULL']},\n",
       "   {'name': 'comments', 'type': 'TEXT', 'constraints': []},\n",
       "   {'name': 'created_at',\n",
       "    'type': 'DATETIME',\n",
       "    'constraints': ['NOT NULL', 'DEFAULT CURRENT_TIMESTAMP()']},\n",
       "   {'name': 'updated_at',\n",
       "    'type': 'DATETIME',\n",
       "    'constraints': ['DEFAULT NULL', 'ON UPDATE CURRENT_TIMESTAMP()']}],\n",
       "  'primary_keys': ['id'],\n",
       "  'foreign_keys': [{'name': 'fk_museum_object_visitor_interaction',\n",
       "    'foreign_key': 'object_id',\n",
       "    'reference_table': 'museum_object',\n",
       "    'reference_column': 'id'},\n",
       "   {'name': 'fk_user_visitor_interaction',\n",
       "    'foreign_key': 'user_id',\n",
       "    'reference_table': 'user',\n",
       "    'reference_column': 'id'},\n",
       "   {'name': 'chk_is_liked_or_comment',\n",
       "    'foreign_key': '',\n",
       "    'reference_table': '',\n",
       "    'reference_column': ''}]}}"
      ]
     },
     "execution_count": 2,
     "metadata": {},
     "output_type": "execute_result"
    }
   ],
   "source": [
    "sql_file = \"Dump20250409.sql\"\n",
    "parsed_schema = pipeline.parse_schema(sql_file)\n",
    "parsed_schema"
   ]
  },
  {
   "cell_type": "code",
   "execution_count": 4,
   "id": "1e639317",
   "metadata": {},
   "outputs": [],
   "source": [
    "knowledge_graph = pipeline.build_knowledge_graph(parsed_schema)"
   ]
  },
  {
   "cell_type": "code",
   "execution_count": 5,
   "id": "f479e6f1",
   "metadata": {},
   "outputs": [
    {
     "name": "stdout",
     "output_type": "stream",
     "text": [
      "Warning: When  cdn_resources is 'local' jupyter notebook has issues displaying graphics on chrome/safari. Use cdn_resources='in_line' or cdn_resources='remote' if you have issues viewing graphics in a notebook.\n",
      "kg.html\n"
     ]
    }
   ],
   "source": [
    "pipeline.visualize_kg_interactive(knowledge_graph, filename='kg.html')"
   ]
  },
  {
   "cell_type": "markdown",
   "id": "8cdb67a6",
   "metadata": {},
   "source": [
    "# Save Knowlege Graph"
   ]
  },
  {
   "cell_type": "code",
   "execution_count": 6,
   "id": "898fe029",
   "metadata": {},
   "outputs": [],
   "source": [
    "pipeline.save_kg_graphml(knowledge_graph, 'sql_knowledge_graph')"
   ]
  },
  {
   "cell_type": "markdown",
   "id": "9a2b33b3",
   "metadata": {},
   "source": [
    "# Load Knowledge Graph"
   ]
  },
  {
   "cell_type": "code",
   "execution_count": 2,
   "id": "dbb88d6d",
   "metadata": {},
   "outputs": [],
   "source": [
    "loaded_knowledge_graph = pipeline.load_kg_graphml('sql_knowledge_graph')"
   ]
  },
  {
   "cell_type": "markdown",
   "id": "1bdad7bf",
   "metadata": {},
   "source": [
    "# Embed Query To KG"
   ]
  },
  {
   "cell_type": "code",
   "execution_count": 3,
   "id": "314695cb",
   "metadata": {},
   "outputs": [],
   "source": [
    "sql_query = \"\"\"SELECT mo.id AS object_id, mo.title, a.material, a.art_style FROM museum_object mo JOIN location l ON mo.origin_location_id = l.id JOIN attribute a ON mo.id = a.object_id WHERE l.country = 'Italy';\n",
    "\"\"\""
   ]
  },
  {
   "cell_type": "code",
   "execution_count": 4,
   "id": "f1c47f0d",
   "metadata": {},
   "outputs": [
    {
     "data": {
      "text/plain": [
       "QueryComponents(raw_query=\"SELECT mo.id AS object_id, mo.title, a.material, a.art_style FROM museum_object mo JOIN location l ON mo.origin_location_id = l.id JOIN attribute a ON mo.id = a.object_id WHERE l.country = 'Italy';\\n\", query_type='SELECT', tables={'location', 'attribute', 'museum_object'}, columns={'location.country', 'attribute.art_style', 'attribute.material', 'location.id', 'attribute.object_id', 'museum_object.id', 'museum_object.origin_location_id', 'museum_object.title'}, joins=[{'source': 'museum_object', 'target': 'location', 'type': 'JOIN', 'conditions': [{'left': 'origin_location_id', 'right': 'id', 'operator': '='}]}, {'source': 'museum_object', 'target': 'attribute', 'type': 'JOIN', 'conditions': [{'left': 'id', 'right': 'object_id', 'operator': '='}]}], conditions=[{'left': 'l.country', 'operator': 'eq', 'right': \"'Italy'\"}], aggregations=set(), subqueries=set(), group_by=[], order_by=[], limit=None, having=[], ctes={})"
      ]
     },
     "execution_count": 4,
     "metadata": {},
     "output_type": "execute_result"
    }
   ],
   "source": [
    "parsed_query = pipeline.parse_sql(sql_query)\n",
    "parsed_query"
   ]
  },
  {
   "cell_type": "code",
   "execution_count": 5,
   "id": "3ffb1558",
   "metadata": {},
   "outputs": [
    {
     "name": "stdout",
     "output_type": "stream",
     "text": [
      "query_7461764137375118208\n"
     ]
    }
   ],
   "source": [
    "knowledge_graph_update, query_id = pipeline.update_kg_with_query(loaded_knowledge_graph, parsed_query)"
   ]
  },
  {
   "cell_type": "code",
   "execution_count": 6,
   "id": "b52a38a0",
   "metadata": {},
   "outputs": [
    {
     "data": {
      "text/plain": [
       "'query_7461764137375118208'"
      ]
     },
     "execution_count": 6,
     "metadata": {},
     "output_type": "execute_result"
    }
   ],
   "source": [
    "query_id"
   ]
  },
  {
   "cell_type": "code",
   "execution_count": 7,
   "id": "d7b2f887",
   "metadata": {},
   "outputs": [
    {
     "name": "stdout",
     "output_type": "stream",
     "text": [
      "Warning: When  cdn_resources is 'local' jupyter notebook has issues displaying graphics on chrome/safari. Use cdn_resources='in_line' or cdn_resources='remote' if you have issues viewing graphics in a notebook.\n",
      "query_query_7461764137375118208.html\n"
     ]
    }
   ],
   "source": [
    "pipeline.visualize_query(knowledge_graph_update, query_id)"
   ]
  },
  {
   "cell_type": "markdown",
   "id": "48d61bfb",
   "metadata": {},
   "source": [
    "# Extract Data From KG Query"
   ]
  },
  {
   "cell_type": "code",
   "execution_count": 8,
   "id": "307f8101",
   "metadata": {},
   "outputs": [
    {
     "data": {
      "text/plain": [
       "[{'id': 'table_location', 'label': 'location'},\n",
       " {'id': 'table_attribute', 'label': 'attribute'},\n",
       " {'id': 'table_museum_object', 'label': 'museum_object'}]"
      ]
     },
     "execution_count": 8,
     "metadata": {},
     "output_type": "execute_result"
    }
   ],
   "source": [
    "pipeline.extract_query_labels(loaded_knowledge_graph, query_id)['tables']"
   ]
  },
  {
   "cell_type": "code",
   "execution_count": 9,
   "id": "1986aec5",
   "metadata": {},
   "outputs": [
    {
     "data": {
      "text/plain": [
       "[{'id': 'column_museum_object.title',\n",
       "  'label': 'title',\n",
       "  'table': 'museum_object'},\n",
       " {'id': 'column_museum_object.id', 'label': 'id', 'table': 'museum_object'},\n",
       " {'id': 'column_attribute.art_style',\n",
       "  'label': 'art_style',\n",
       "  'table': 'attribute'},\n",
       " {'id': 'column_location.country', 'label': 'country', 'table': 'location'},\n",
       " {'id': 'column_attribute.object_id',\n",
       "  'label': 'object_id',\n",
       "  'table': 'attribute'},\n",
       " {'id': 'column_location.id', 'label': 'id', 'table': 'location'},\n",
       " {'id': 'column_attribute.material',\n",
       "  'label': 'material',\n",
       "  'table': 'attribute'}]"
      ]
     },
     "execution_count": 9,
     "metadata": {},
     "output_type": "execute_result"
    }
   ],
   "source": [
    "pipeline.extract_query_labels(loaded_knowledge_graph, query_id)['columns']"
   ]
  }
 ],
 "metadata": {
  "kernelspec": {
   "display_name": "sys_exp_kernel",
   "language": "python",
   "name": "sys_expert"
  },
  "language_info": {
   "codemirror_mode": {
    "name": "ipython",
    "version": 3
   },
   "file_extension": ".py",
   "mimetype": "text/x-python",
   "name": "python",
   "nbconvert_exporter": "python",
   "pygments_lexer": "ipython3",
   "version": "3.10.15"
  }
 },
 "nbformat": 4,
 "nbformat_minor": 5
}
