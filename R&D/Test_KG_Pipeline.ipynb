{
 "cells": [
  {
   "cell_type": "code",
   "execution_count": 1,
   "id": "99c4af28",
   "metadata": {},
   "outputs": [],
   "source": [
    "import knowledge_graph_pipeline as pipeline"
   ]
  },
  {
   "cell_type": "markdown",
   "id": "e81fdc2e",
   "metadata": {},
   "source": [
    "# Build Knowledge Graph"
   ]
  },
  {
   "cell_type": "code",
   "execution_count": 2,
   "id": "759a44e2",
   "metadata": {},
   "outputs": [
    {
     "data": {
      "text/plain": [
       "{'Location': {'columns': [{'name': 'zip_code',\n",
       "    'type': 'VARCHAR(10)',\n",
       "    'constraints': ['PRIMARY KEY']},\n",
       "   {'name': 'country', 'type': 'VARCHAR(100)', 'constraints': ['NOT NULL']},\n",
       "   {'name': 'createdAt',\n",
       "    'type': 'DATETIME',\n",
       "    'constraints': ['NOT NULL', 'DEFAULT NOW()']},\n",
       "   {'name': 'updatedAt', 'type': 'DATETIME', 'constraints': []}],\n",
       "  'primary_keys': [],\n",
       "  'foreign_keys': []},\n",
       " 'User': {'columns': [{'name': 'id',\n",
       "    'type': 'BIGINT',\n",
       "    'constraints': ['PRIMARY KEY', 'AUTO_INCREMENT']},\n",
       "   {'name': 'full_name', 'type': 'VARCHAR(100)', 'constraints': ['NOT NULL']},\n",
       "   {'name': 'email',\n",
       "    'type': 'VARCHAR(100)',\n",
       "    'constraints': ['NOT NULL', 'UNIQUE']},\n",
       "   {'name': 'phone_numer',\n",
       "    'type': 'VARCHAR(20)',\n",
       "    'constraints': ['NOT NULL', 'UNIQUE']},\n",
       "   {'name': 'dob', 'type': 'DATE', 'constraints': ['NOT NULL']},\n",
       "   {'name': 'zip_code', 'type': 'VARCHAR(10)', 'constraints': ['NOT NULL']},\n",
       "   {'name': 'createdAt',\n",
       "    'type': 'DATETIME',\n",
       "    'constraints': ['NOT NULL', 'DEFAULT NOW()']},\n",
       "   {'name': 'updatedAt', 'type': 'DATETIME', 'constraints': []}],\n",
       "  'primary_keys': [],\n",
       "  'foreign_keys': []},\n",
       " 'Skill': {'columns': [{'name': 'id',\n",
       "    'type': 'BIGINT',\n",
       "    'constraints': ['PRIMARY KEY', 'AUTO_INCREMENT']},\n",
       "   {'name': 'name', 'type': 'VARCHAR(100)', 'constraints': ['NOT NULL']},\n",
       "   {'name': 'description', 'type': 'VARCHAR(255)', 'constraints': ['NULL']},\n",
       "   {'name': 'createdAt',\n",
       "    'type': 'DATETIME',\n",
       "    'constraints': ['NOT NULL', 'DEFAULT NOW()']},\n",
       "   {'name': 'updatedAt', 'type': 'DATETIME', 'constraints': []}],\n",
       "  'primary_keys': [],\n",
       "  'foreign_keys': []},\n",
       " 'User_Skill': {'columns': [{'name': 'user_id',\n",
       "    'type': 'BIGINT',\n",
       "    'constraints': []},\n",
       "   {'name': 'skill_id', 'type': 'BIGINT', 'constraints': []},\n",
       "   {'name': 'proficiency_level',\n",
       "    'type': \"ENUM('Basic', 'Intermediate', 'Expert')\",\n",
       "    'constraints': [\"DEFAULT 'Basic'\", 'NOT NULL']},\n",
       "   {'name': 'createdAt',\n",
       "    'type': 'DATETIME',\n",
       "    'constraints': ['NOT NULL', 'DEFAULT NOW()']},\n",
       "   {'name': 'updatedAt', 'type': 'DATETIME', 'constraints': []}],\n",
       "  'primary_keys': ['user_id', 'skill_id'],\n",
       "  'foreign_keys': []},\n",
       " 'Education': {'columns': [{'name': 'id',\n",
       "    'type': 'BIGINT',\n",
       "    'constraints': ['PRIMARY KEY', 'AUTO_INCREMENT']},\n",
       "   {'name': 'university_name', 'type': 'VARCHAR(100)', 'constraints': []},\n",
       "   {'name': 'createdAt',\n",
       "    'type': 'DATETIME',\n",
       "    'constraints': ['NOT NULL', 'DEFAULT NOW()']},\n",
       "   {'name': 'updatedAt', 'type': 'DATETIME', 'constraints': []}],\n",
       "  'primary_keys': [],\n",
       "  'foreign_keys': []},\n",
       " 'User_Education': {'columns': [{'name': 'user_id',\n",
       "    'type': 'BIGINT',\n",
       "    'constraints': []},\n",
       "   {'name': 'education_id', 'type': 'BIGINT', 'constraints': []},\n",
       "   {'name': 'graduation_date', 'type': 'DATE', 'constraints': ['NOT NULL']},\n",
       "   {'name': 'degree',\n",
       "    'type': \"ENUM('Associate', 'Bachelor', 'Master', 'PhD', 'Diploma')\",\n",
       "    'constraints': ['NOT NULL']},\n",
       "   {'name': 'specialization',\n",
       "    'type': 'VARCHAR(100)',\n",
       "    'constraints': ['NOT NULL']},\n",
       "   {'name': 'createdAt',\n",
       "    'type': 'DATETIME',\n",
       "    'constraints': ['NOT NULL', 'DEFAULT NOW()']},\n",
       "   {'name': 'updatedAt', 'type': 'DATETIME', 'constraints': []}],\n",
       "  'primary_keys': [],\n",
       "  'foreign_keys': []},\n",
       " 'Domain': {'columns': [{'name': 'id',\n",
       "    'type': 'BIGINT',\n",
       "    'constraints': ['PRIMARY KEY', 'AUTO_INCREMENT']},\n",
       "   {'name': 'name', 'type': 'VARCHAR(100)', 'constraints': ['NOT NULL']},\n",
       "   {'name': 'description', 'type': 'VARCHAR(255)', 'constraints': []},\n",
       "   {'name': 'createdAt',\n",
       "    'type': 'DATETIME',\n",
       "    'constraints': ['NOT NULL', 'DEFAULT NOW()']},\n",
       "   {'name': 'updatedAt', 'type': 'DATETIME', 'constraints': []}],\n",
       "  'primary_keys': [],\n",
       "  'foreign_keys': []},\n",
       " 'Patent': {'columns': [{'name': 'id',\n",
       "    'type': 'BIGINT',\n",
       "    'constraints': ['PRIMARY KEY', 'AUTO_INCREMENT']},\n",
       "   {'name': 'title', 'type': 'VARCHAR(100)', 'constraints': ['NOT NULL']},\n",
       "   {'name': 'summary', 'type': 'VARCHAR(255)', 'constraints': ['NULL']},\n",
       "   {'name': 'status',\n",
       "    'type': \"ENUM('Approved', 'Expired')\",\n",
       "    'constraints': [\"DEFAULT 'Pending'\", 'NOT NULL']},\n",
       "   {'name': 'domain_id', 'type': 'BIGINT', 'constraints': ['NOT NULL']},\n",
       "   {'name': 'patent_no',\n",
       "    'type': 'VARCHAR(100)',\n",
       "    'constraints': ['NOT NULL', 'UNIQUE']},\n",
       "   {'name': 'registration_date', 'type': 'DATE', 'constraints': ['NOT NULL']},\n",
       "   {'name': 'expire_date', 'type': 'DATE', 'constraints': []},\n",
       "   {'name': 'createdAt',\n",
       "    'type': 'DATETIME',\n",
       "    'constraints': ['NOT NULL', 'DEFAULT NOW()']},\n",
       "   {'name': 'updatedAt', 'type': 'DATETIME', 'constraints': []}],\n",
       "  'primary_keys': [],\n",
       "  'foreign_keys': []},\n",
       " 'User_Patent': {'columns': [{'name': 'user_id',\n",
       "    'type': 'BIGINT',\n",
       "    'constraints': ['DEFAULT 0']},\n",
       "   {'name': 'patent_id', 'type': 'BIGINT', 'constraints': []},\n",
       "   {'name': 'createdAt',\n",
       "    'type': 'DATETIME',\n",
       "    'constraints': ['NOT NULL', 'DEFAULT NOW()']},\n",
       "   {'name': 'updatedAt', 'type': 'DATETIME', 'constraints': []}],\n",
       "  'primary_keys': ['user_id', 'patent_id'],\n",
       "  'foreign_keys': []},\n",
       " 'Publisher': {'columns': [{'name': 'id',\n",
       "    'type': 'BIGINT',\n",
       "    'constraints': ['PRIMARY KEY', 'AUTO_INCREMENT']},\n",
       "   {'name': 'title', 'type': 'VARCHAR(100)', 'constraints': ['NOT NULL']},\n",
       "   {'name': 'description', 'type': 'VARCHAR(255)', 'constraints': []},\n",
       "   {'name': 'createdAt',\n",
       "    'type': 'DATETIME',\n",
       "    'constraints': ['NOT NULL', 'DEFAULT NOW()']},\n",
       "   {'name': 'updatedAt', 'type': 'DATETIME', 'constraints': []}],\n",
       "  'primary_keys': [],\n",
       "  'foreign_keys': []},\n",
       " 'Group': {'columns': [{'name': 'id',\n",
       "    'type': 'BIGINT',\n",
       "    'constraints': ['PRIMARY KEY', 'AUTO_INCREMENT']},\n",
       "   {'name': 'title', 'type': 'VARCHAR(100)', 'constraints': []},\n",
       "   {'name': 'createdAt',\n",
       "    'type': 'DATETIME',\n",
       "    'constraints': ['NOT NULL', 'DEFAULT NOW()']},\n",
       "   {'name': 'updatedAt', 'type': 'DATETIME', 'constraints': []}],\n",
       "  'primary_keys': [],\n",
       "  'foreign_keys': []},\n",
       " 'Publication': {'columns': [{'name': 'id',\n",
       "    'type': 'BIGINT',\n",
       "    'constraints': ['PRIMARY KEY', 'AUTO_INCREMENT']},\n",
       "   {'name': 'title', 'type': 'VARCHAR(255)', 'constraints': ['NOT NULL']},\n",
       "   {'name': 'domain_id', 'type': 'BIGINT', 'constraints': []},\n",
       "   {'name': 'publisher_id', 'type': 'BIGINT', 'constraints': []},\n",
       "   {'name': 'publication_date', 'type': 'DATE', 'constraints': []},\n",
       "   {'name': 'abstract', 'type': 'VARCHAR(255)', 'constraints': ['NULL']},\n",
       "   {'name': 'keywords', 'type': 'VARCHAR(255)', 'constraints': ['NOT NULL']},\n",
       "   {'name': 'doi',\n",
       "    'type': 'VARCHAR(255)',\n",
       "    'constraints': ['NOT NULL', 'UNIQUE']},\n",
       "   {'name': 'status',\n",
       "    'type': \"ENUM('Draft', 'Submitted', 'Under Review', 'Published', 'Rejected')\",\n",
       "    'constraints': [\"DEFAULT 'Draft'\", 'NOT NULL']},\n",
       "   {'name': 'group_id', 'type': 'BIGINT', 'constraints': ['NULL']},\n",
       "   {'name': 'createdAt',\n",
       "    'type': 'DATETIME',\n",
       "    'constraints': ['NOT NULL', 'DEFAULT NOW()']},\n",
       "   {'name': 'updatedAt', 'type': 'DATETIME', 'constraints': []}],\n",
       "  'primary_keys': [],\n",
       "  'foreign_keys': []},\n",
       " 'User_Publication': {'columns': [{'name': 'user_id',\n",
       "    'type': 'BIGINT',\n",
       "    'constraints': []},\n",
       "   {'name': 'publication_id', 'type': 'BIGINT', 'constraints': []},\n",
       "   {'name': 'user_role',\n",
       "    'type': \"ENUM('Lead Author', 'Corresponding Author')\",\n",
       "    'constraints': [\"DEFAULT 'Lead Author'\", 'NOT NULL']},\n",
       "   {'name': 'createdAt',\n",
       "    'type': 'DATETIME',\n",
       "    'constraints': ['NOT NULL', 'DEFAULT NOW()']},\n",
       "   {'name': 'updatedAt', 'type': 'DATETIME', 'constraints': []}],\n",
       "  'primary_keys': ['user_id', 'publication_id'],\n",
       "  'foreign_keys': []},\n",
       " 'User_Group': {'columns': [{'name': 'user_id',\n",
       "    'type': 'BIGINT',\n",
       "    'constraints': []},\n",
       "   {'name': 'group_id', 'type': 'BIGINT', 'constraints': []},\n",
       "   {'name': 'createdAt',\n",
       "    'type': 'DATETIME',\n",
       "    'constraints': ['NOT NULL', 'DEFAULT NOW()']},\n",
       "   {'name': 'updatedAt', 'type': 'DATETIME', 'constraints': []}],\n",
       "  'primary_keys': ['user_id', 'group_id'],\n",
       "  'foreign_keys': []},\n",
       " 'Organization': {'columns': [{'name': 'id',\n",
       "    'type': 'BIGINT',\n",
       "    'constraints': ['PRIMARY KEY', 'AUTO_INCREMENT']},\n",
       "   {'name': 'name', 'type': 'VARCHAR(100)', 'constraints': []},\n",
       "   {'name': 'type', 'type': 'VARCHAR(100)', 'constraints': []},\n",
       "   {'name': 'createdAt',\n",
       "    'type': 'DATETIME',\n",
       "    'constraints': ['NOT NULL', 'DEFAULT NOW()']},\n",
       "   {'name': 'updatedAt', 'type': 'DATETIME', 'constraints': []}],\n",
       "  'primary_keys': [],\n",
       "  'foreign_keys': []},\n",
       " 'Position': {'columns': [{'name': 'id',\n",
       "    'type': 'BIGINT',\n",
       "    'constraints': ['PRIMARY KEY', 'AUTO_INCREMENT']},\n",
       "   {'name': 'title', 'type': 'VARCHAR(100)', 'constraints': ['NOT NULL']},\n",
       "   {'name': 'description', 'type': 'VARCHAR(255)', 'constraints': []},\n",
       "   {'name': 'createdAt',\n",
       "    'type': 'DATETIME',\n",
       "    'constraints': ['NOT NULL', 'DEFAULT NOW()']},\n",
       "   {'name': 'updatedAt', 'type': 'DATETIME', 'constraints': []}],\n",
       "  'primary_keys': [],\n",
       "  'foreign_keys': []},\n",
       " 'Experience': {'columns': [{'name': 'id',\n",
       "    'type': 'BIGINT',\n",
       "    'constraints': ['PRIMARY KEY', 'AUTO_INCREMENT']},\n",
       "   {'name': 'user_id', 'type': 'BIGINT', 'constraints': ['NOT NULL']},\n",
       "   {'name': 'position_id', 'type': 'BIGINT', 'constraints': ['NOT NULL']},\n",
       "   {'name': 'organization_id', 'type': 'BIGINT', 'constraints': ['NOT NULL']},\n",
       "   {'name': 'domain_id', 'type': 'BIGINT', 'constraints': ['NOT NULL']},\n",
       "   {'name': 'start_date', 'type': 'DATE', 'constraints': ['NOT NULL']},\n",
       "   {'name': 'end_date', 'type': 'DATE', 'constraints': []},\n",
       "   {'name': 'createdAt',\n",
       "    'type': 'DATETIME',\n",
       "    'constraints': ['NOT NULL', 'DEFAULT NOW()']},\n",
       "   {'name': 'updatedAt', 'type': 'DATETIME', 'constraints': []}],\n",
       "  'primary_keys': [],\n",
       "  'foreign_keys': []},\n",
       " 'Communication': {'columns': [{'name': 'id',\n",
       "    'type': 'BIGINT',\n",
       "    'constraints': ['PRIMARY KEY', 'AUTO_INCREMENT']},\n",
       "   {'name': 'user_id', 'type': 'BIGINT', 'constraints': ['NULL']},\n",
       "   {'name': 'group_id', 'type': 'BIGINT', 'constraints': ['NOT NULL']},\n",
       "   {'name': 'message', 'type': 'VARCHAR(255)', 'constraints': ['NOT NULL']},\n",
       "   {'name': 'createdAt',\n",
       "    'type': 'DATETIME',\n",
       "    'constraints': ['NOT NULL', 'DEFAULT NOW()']},\n",
       "   {'name': 'updatedAt', 'type': 'DATETIME', 'constraints': []}],\n",
       "  'primary_keys': [],\n",
       "  'foreign_keys': []},\n",
       " 'Project': {'columns': [{'name': 'id',\n",
       "    'type': 'BIGINT',\n",
       "    'constraints': ['PRIMARY KEY', 'AUTO_INCREMENT']},\n",
       "   {'name': 'group_id', 'type': 'BIGINT', 'constraints': ['NULL']},\n",
       "   {'name': 'domain_id', 'type': 'BIGINT', 'constraints': ['NOT NULL']},\n",
       "   {'name': 'name', 'type': 'VARCHAR(100)', 'constraints': ['NOT NULL']},\n",
       "   {'name': 'description', 'type': 'VARCHAR(255)', 'constraints': []},\n",
       "   {'name': 'status',\n",
       "    'type': \"ENUM('Not Started', 'In Progress', 'Completed', 'Cancelled')\",\n",
       "    'constraints': []},\n",
       "   {'name': 'start_date', 'type': 'DATE', 'constraints': ['NOT NULL']},\n",
       "   {'name': 'end_date', 'type': 'DATE', 'constraints': []},\n",
       "   {'name': 'createdAt',\n",
       "    'type': 'DATETIME',\n",
       "    'constraints': ['NOT NULL', 'DEFAULT NOW()']},\n",
       "   {'name': 'updatedAt', 'type': 'DATETIME', 'constraints': []}],\n",
       "  'primary_keys': [],\n",
       "  'foreign_keys': []},\n",
       " 'User_Project': {'columns': [{'name': 'project_id',\n",
       "    'type': 'BIGINT',\n",
       "    'constraints': []},\n",
       "   {'name': 'user_id', 'type': 'BIGINT', 'constraints': []},\n",
       "   {'name': 'hours', 'type': 'INT', 'constraints': ['NOT NULL']},\n",
       "   {'name': 'user_role',\n",
       "    'type': \"ENUM('Lead', 'Member')\",\n",
       "    'constraints': ['NOT NULL', \"DEFAULT 'Member'\"]},\n",
       "   {'name': 'user_contribution', 'type': 'VARCHAR(255)', 'constraints': []},\n",
       "   {'name': 'createdAt',\n",
       "    'type': 'DATETIME',\n",
       "    'constraints': ['NOT NULL', 'DEFAULT NOW()']},\n",
       "   {'name': 'updatedAt', 'type': 'DATETIME', 'constraints': []}],\n",
       "  'primary_keys': [],\n",
       "  'foreign_keys': []}}"
      ]
     },
     "execution_count": 2,
     "metadata": {},
     "output_type": "execute_result"
    }
   ],
   "source": [
    "sql_file = \"schema_link_expert.sql\"\n",
    "parsed_schema = pipeline.parse_schema(sql_file)\n",
    "parsed_schema"
   ]
  },
  {
   "cell_type": "code",
   "execution_count": 3,
   "id": "1e639317",
   "metadata": {},
   "outputs": [],
   "source": [
    "knowledge_graph = pipeline.build_knowledge_graph(parsed_schema)"
   ]
  },
  {
   "cell_type": "code",
   "execution_count": 4,
   "id": "f479e6f1",
   "metadata": {},
   "outputs": [
    {
     "name": "stdout",
     "output_type": "stream",
     "text": [
      "Warning: When  cdn_resources is 'local' jupyter notebook has issues displaying graphics on chrome/safari. Use cdn_resources='in_line' or cdn_resources='remote' if you have issues viewing graphics in a notebook.\n",
      "link_kg1.html\n"
     ]
    }
   ],
   "source": [
    "pipeline.visualize_kg_interactive(knowledge_graph, filename='link_kg1.html')"
   ]
  },
  {
   "cell_type": "markdown",
   "id": "8cdb67a6",
   "metadata": {},
   "source": [
    "# Save Knowlege Graph"
   ]
  },
  {
   "cell_type": "code",
   "execution_count": 5,
   "id": "898fe029",
   "metadata": {},
   "outputs": [],
   "source": [
    "pipeline.save_kg_graphml(knowledge_graph, 'sql_knowledge_graph_link')"
   ]
  },
  {
   "cell_type": "markdown",
   "id": "9a2b33b3",
   "metadata": {},
   "source": [
    "# Load Knowledge Graph"
   ]
  },
  {
   "cell_type": "code",
   "execution_count": 6,
   "id": "dbb88d6d",
   "metadata": {},
   "outputs": [],
   "source": [
    "loaded_knowledge_graph = pipeline.load_kg_graphml('sql_knowledge_graph_link')"
   ]
  },
  {
   "cell_type": "markdown",
   "id": "1bdad7bf",
   "metadata": {},
   "source": [
    "# Embed Query To KG"
   ]
  },
  {
   "cell_type": "code",
   "execution_count": 7,
   "id": "314695cb",
   "metadata": {},
   "outputs": [],
   "source": [
    "sql_query = \"\"\"SELECT \n",
    "    U.full_name AS Full_name, \n",
    "    U.email AS Email, \n",
    "    UE.degree AS Degree, \n",
    "    E.university_name AS University, \n",
    "    YEAR(UE.graduation_date) AS Graduation_year, \n",
    "    UE.specialization AS Specialization\n",
    "FROM User U\n",
    "JOIN User_Education UE ON U.id = UE.user_id\n",
    "JOIN Education E ON UE.education_id = E.id\n",
    "WHERE UE.specialization LIKE 'DSAI%';\n",
    "\"\"\""
   ]
  },
  {
   "cell_type": "code",
   "execution_count": 8,
   "id": "f1c47f0d",
   "metadata": {},
   "outputs": [
    {
     "data": {
      "text/plain": [
       "QueryComponents(raw_query=\"SELECT \\n    U.full_name AS Full_name, \\n    U.email AS Email, \\n    UE.degree AS Degree, \\n    E.university_name AS University, \\n    YEAR(UE.graduation_date) AS Graduation_year, \\n    UE.specialization AS Specialization\\nFROM User U\\nJOIN User_Education UE ON U.id = UE.user_id\\nJOIN Education E ON UE.education_id = E.id\\nWHERE UE.specialization LIKE 'DSAI%';\\n\", query_type='SELECT', tables={'User', 'Education', 'User_Education'}, columns={'Education.id', 'User_Education.degree', 'User.full_name', 'User.id', 'User_Education.user_id', 'User_Education.education_id', 'User.email', 'User_Education.graduation_date', 'User_Education.specialization', 'Education.university_name'}, joins=[{'source': 'User', 'target': 'User_Education', 'type': 'JOIN', 'conditions': [{'left': 'id', 'right': 'user_id', 'operator': '='}]}, {'source': 'User_Education', 'target': 'Education', 'type': 'JOIN', 'conditions': [{'left': 'education_id', 'right': 'id', 'operator': '='}]}], conditions=[{'left': 'UE.specialization', 'operator': 'like', 'right': \"'DSAI%'\"}], aggregations=set(), subqueries=set(), group_by=[], order_by=[], limit=None, having=[], ctes={})"
      ]
     },
     "execution_count": 8,
     "metadata": {},
     "output_type": "execute_result"
    }
   ],
   "source": [
    "parsed_query = pipeline.parse_sql(sql_query)\n",
    "parsed_query"
   ]
  },
  {
   "cell_type": "code",
   "execution_count": 9,
   "id": "3ffb1558",
   "metadata": {},
   "outputs": [
    {
     "name": "stdout",
     "output_type": "stream",
     "text": [
      "query_219575899597822764\n"
     ]
    }
   ],
   "source": [
    "knowledge_graph_update, query_id = pipeline.update_kg_with_query(loaded_knowledge_graph, parsed_query)"
   ]
  },
  {
   "cell_type": "code",
   "execution_count": 10,
   "id": "b52a38a0",
   "metadata": {},
   "outputs": [
    {
     "data": {
      "text/plain": [
       "'query_219575899597822764'"
      ]
     },
     "execution_count": 10,
     "metadata": {},
     "output_type": "execute_result"
    }
   ],
   "source": [
    "query_id"
   ]
  },
  {
   "cell_type": "code",
   "execution_count": 11,
   "id": "d7b2f887",
   "metadata": {},
   "outputs": [
    {
     "name": "stdout",
     "output_type": "stream",
     "text": [
      "Warning: When  cdn_resources is 'local' jupyter notebook has issues displaying graphics on chrome/safari. Use cdn_resources='in_line' or cdn_resources='remote' if you have issues viewing graphics in a notebook.\n",
      "query_query_219575899597822764.html\n"
     ]
    }
   ],
   "source": [
    "pipeline.visualize_query(knowledge_graph_update, query_id)"
   ]
  },
  {
   "cell_type": "markdown",
   "id": "48d61bfb",
   "metadata": {},
   "source": [
    "# Extract Data From KG Query"
   ]
  },
  {
   "cell_type": "code",
   "execution_count": 12,
   "id": "307f8101",
   "metadata": {},
   "outputs": [
    {
     "data": {
      "text/plain": [
       "[{'id': 'table_User', 'label': 'User'},\n",
       " {'id': 'table_Education', 'label': 'Education'},\n",
       " {'id': 'table_User_Education', 'label': 'User_Education'}]"
      ]
     },
     "execution_count": 12,
     "metadata": {},
     "output_type": "execute_result"
    }
   ],
   "source": [
    "pipeline.extract_query_labels(loaded_knowledge_graph, query_id)['tables']"
   ]
  },
  {
   "cell_type": "code",
   "execution_count": 13,
   "id": "1986aec5",
   "metadata": {},
   "outputs": [
    {
     "data": {
      "text/plain": [
       "[{'id': 'column_User.id', 'label': 'id', 'table': 'User'},\n",
       " {'id': 'column_Education.id', 'label': 'id', 'table': 'Education'},\n",
       " {'id': 'column_User_Education.user_id',\n",
       "  'label': 'user_id',\n",
       "  'table': 'User_Education'},\n",
       " {'id': 'column_Education.university_name',\n",
       "  'label': 'university_name',\n",
       "  'table': 'Education'},\n",
       " {'id': 'column_User.email', 'label': 'email', 'table': 'User'},\n",
       " {'id': 'column_User.full_name', 'label': 'full_name', 'table': 'User'},\n",
       " {'id': 'column_User_Education.education_id',\n",
       "  'label': 'education_id',\n",
       "  'table': 'User_Education'},\n",
       " {'id': 'column_User_Education.graduation_date',\n",
       "  'label': 'graduation_date',\n",
       "  'table': 'User_Education'},\n",
       " {'id': 'column_User_Education.degree',\n",
       "  'label': 'degree',\n",
       "  'table': 'User_Education'},\n",
       " {'id': 'column_User_Education.specialization',\n",
       "  'label': 'specialization',\n",
       "  'table': 'User_Education'}]"
      ]
     },
     "execution_count": 13,
     "metadata": {},
     "output_type": "execute_result"
    }
   ],
   "source": [
    "pipeline.extract_query_labels(loaded_knowledge_graph, query_id)['columns']"
   ]
  },
  {
   "cell_type": "code",
   "execution_count": null,
   "id": "30e142cc",
   "metadata": {},
   "outputs": [],
   "source": []
  }
 ],
 "metadata": {
  "kernelspec": {
   "display_name": "pythonNLP",
   "language": "python",
   "name": "pythonnlp"
  },
  "language_info": {
   "codemirror_mode": {
    "name": "ipython",
    "version": 3
   },
   "file_extension": ".py",
   "mimetype": "text/x-python",
   "name": "python",
   "nbconvert_exporter": "python",
   "pygments_lexer": "ipython3",
   "version": "3.11.5"
  }
 },
 "nbformat": 4,
 "nbformat_minor": 5
}
