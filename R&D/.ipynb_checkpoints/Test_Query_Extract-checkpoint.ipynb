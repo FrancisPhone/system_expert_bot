{
 "cells": [
  {
   "cell_type": "code",
   "execution_count": 1,
   "id": "99c4af28",
   "metadata": {},
   "outputs": [],
   "source": [
    "import extract_query"
   ]
  },
  {
   "cell_type": "code",
   "execution_count": 2,
   "id": "dbb88d6d",
   "metadata": {},
   "outputs": [],
   "source": [
    "loaded_knowledge_graph = extract_query.load_kg_graphml('sql_knowledge_graph')"
   ]
  },
  {
   "cell_type": "code",
   "execution_count": 3,
   "id": "314695cb",
   "metadata": {},
   "outputs": [],
   "source": [
    "sql_query = \"\"\"SELECT mo.id AS object_id, mo.title, a.material, a.art_style FROM museum_object mo JOIN location l ON mo.origin_location_id = l.id JOIN attribute a ON mo.id = a.object_id WHERE l.country = 'Italy';\n",
    "\"\"\""
   ]
  },
  {
   "cell_type": "code",
   "execution_count": 4,
   "id": "f1c47f0d",
   "metadata": {},
   "outputs": [
    {
     "data": {
      "text/plain": [
       "QueryComponents(raw_query=\"SELECT mo.id AS object_id, mo.title, a.material, a.art_style FROM museum_object mo JOIN location l ON mo.origin_location_id = l.id JOIN attribute a ON mo.id = a.object_id WHERE l.country = 'Italy';\\n\", query_type='SELECT', tables={'attribute', 'museum_object', 'location'}, columns={'attribute.object_id', 'museum_object.id', 'attribute.art_style', 'attribute.material', 'museum_object.origin_location_id', 'location.id', 'museum_object.title', 'location.country'}, joins=[{'source': 'museum_object', 'target': 'location', 'type': 'JOIN', 'conditions': [{'left': 'origin_location_id', 'right': 'id', 'operator': '='}]}, {'source': 'museum_object', 'target': 'attribute', 'type': 'JOIN', 'conditions': [{'left': 'id', 'right': 'object_id', 'operator': '='}]}], conditions=[{'left': 'l.country', 'operator': 'eq', 'right': \"'Italy'\"}], aggregations=set(), subqueries=set(), group_by=[], order_by=[], limit=None, having=[], ctes={})"
      ]
     },
     "execution_count": 4,
     "metadata": {},
     "output_type": "execute_result"
    }
   ],
   "source": [
    "parsed_query = extract_query.parse_sql(sql_query)\n",
    "parsed_query"
   ]
  },
  {
   "cell_type": "code",
   "execution_count": 5,
   "id": "3ffb1558",
   "metadata": {},
   "outputs": [
    {
     "name": "stdout",
     "output_type": "stream",
     "text": [
      "query_-3103856640340026526\n"
     ]
    }
   ],
   "source": [
    "knowledge_graph_update, query_id = extract_query.update_kg_with_query(loaded_knowledge_graph, parsed_query)"
   ]
  },
  {
   "cell_type": "code",
   "execution_count": 6,
   "id": "b52a38a0",
   "metadata": {},
   "outputs": [
    {
     "data": {
      "text/plain": [
       "'query_-3103856640340026526'"
      ]
     },
     "execution_count": 6,
     "metadata": {},
     "output_type": "execute_result"
    }
   ],
   "source": [
    "query_id"
   ]
  },
  {
   "cell_type": "code",
   "execution_count": 8,
   "id": "307f8101",
   "metadata": {},
   "outputs": [
    {
     "data": {
      "text/plain": [
       "[{'id': 'table_location', 'label': 'location'},\n",
       " {'id': 'table_attribute', 'label': 'attribute'},\n",
       " {'id': 'table_museum_object', 'label': 'museum_object'}]"
      ]
     },
     "execution_count": 8,
     "metadata": {},
     "output_type": "execute_result"
    }
   ],
   "source": [
    "extract_query.extract_query_labels(loaded_knowledge_graph, query_id)['tables']"
   ]
  },
  {
   "cell_type": "code",
   "execution_count": 9,
   "id": "1986aec5",
   "metadata": {},
   "outputs": [
    {
     "data": {
      "text/plain": [
       "[{'id': 'column_museum_object.id', 'label': 'id', 'table': 'museum_object'},\n",
       " {'id': 'column_museum_object.title',\n",
       "  'label': 'title',\n",
       "  'table': 'museum_object'},\n",
       " {'id': 'column_attribute.object_id',\n",
       "  'label': 'object_id',\n",
       "  'table': 'attribute'},\n",
       " {'id': 'column_attribute.art_style',\n",
       "  'label': 'art_style',\n",
       "  'table': 'attribute'},\n",
       " {'id': 'column_location.country', 'label': 'country', 'table': 'location'},\n",
       " {'id': 'column_attribute.material',\n",
       "  'label': 'material',\n",
       "  'table': 'attribute'},\n",
       " {'id': 'column_location.id', 'label': 'id', 'table': 'location'}]"
      ]
     },
     "execution_count": 9,
     "metadata": {},
     "output_type": "execute_result"
    }
   ],
   "source": [
    "extract_query.extract_query_labels(loaded_knowledge_graph, query_id)['columns']"
   ]
  }
 ],
 "metadata": {
  "kernelspec": {
   "display_name": "sys_exp_kernel",
   "language": "python",
   "name": "sys_expert"
  },
  "language_info": {
   "codemirror_mode": {
    "name": "ipython",
    "version": 3
   },
   "file_extension": ".py",
   "mimetype": "text/x-python",
   "name": "python",
   "nbconvert_exporter": "python",
   "pygments_lexer": "ipython3",
   "version": "3.10.15"
  }
 },
 "nbformat": 4,
 "nbformat_minor": 5
}
